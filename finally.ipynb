{
 "cells": [
  {
   "cell_type": "code",
   "execution_count": 1,
   "metadata": {
    "collapsed": true
   },
   "outputs": [],
   "source": [
    "import pandas as pd\n",
    "from tensorflow.keras.preprocessing.image import load_img ,img_to_array ,ImageDataGenerator\n",
    "import numpy as np\n",
    "import os\n",
    "import  warnings\n",
    "warnings.filterwarnings('ignore')\n",
    "from skimage.transform import resize\n",
    "from sklearn.preprocessing import  LabelEncoder\n",
    "from sklearn.utils import shuffle\n",
    "import tensorflow as tf\n",
    "from sklearn.utils import shuffle\n",
    "import seaborn as sns\n",
    "import matplotlib.pyplot as plt\n",
    "import itertools\n",
    "from sklearn.metrics import roc_auc_score\n",
    "from sklearn.preprocessing import LabelBinarizer\n",
    "from sklearn.metrics import plot_roc_curve\n",
    "\n",
    "from tensorflow.keras.layers import  Flatten,Dense,Dropout,BatchNormalization\n",
    "from tensorflow.keras import Sequential\n",
    "from sklearn.metrics import  confusion_matrix,f1_score\n",
    "from tensorflow.keras.layers import Dropout,BatchNormalization,Flatten\n",
    "from tensorflow.keras.regularizers import L2\n",
    "from sklearn import svm\n",
    "from sklearn.metrics import  accuracy_score , classification_report"
   ]
  },
  {
   "cell_type": "code",
   "execution_count": 2,
   "outputs": [],
   "source": [
    "Chihuahua = os.listdir(\"E:\\project _dogs\\image_after_COP\\Chihuahua\")\n",
    "Japanese_spaniel = os.listdir(\"E:\\project _dogs\\image_after_COP\\Japanese_spaniel\")\n",
    "Maltese_dog = os.listdir(\"E:\\project _dogs\\image_after_COP\\Maltese_dog\")\n",
    "\n",
    "Pekinese = os.listdir(\"E:\\project _dogs\\image_after_COP\\Pekinese\")\n",
    "Shih_Tzu = os.listdir(\"E:\\project _dogs\\image_after_COP\\Shih-Tzu\")\n",
    "Blenheim_spaniel = os.listdir(\"E:\\project _dogs\\image_after_COP\\Blenheim_spaniel\")\n",
    "\n",
    "papillon = os.listdir(\"E:\\project _dogs\\image_after_COP\\papillon\")\n",
    "toy_terrier = os.listdir(\"E:\\project _dogs\\image_after_COP/toy_terrier\")\n",
    "Rhodesian_ridgeback = os.listdir(\"E:\\project _dogs\\image_after_COP\\Rhodesian_ridgeback/\")\n",
    "Afghan_hound = os.listdir(\"E:\\project _dogs\\image_after_COP\\Afghan_hound\")\n"
   ],
   "metadata": {
    "collapsed": false
   }
  },
  {
   "cell_type": "code",
   "execution_count": 2,
   "outputs": [],
   "source": [],
   "metadata": {
    "collapsed": false
   }
  },
  {
   "cell_type": "code",
   "execution_count": 3,
   "outputs": [
    {
     "data": {
      "text/plain": "(170, 185, 160, 149, 214, 168, 194, 161, 155, 238)"
     },
     "execution_count": 3,
     "metadata": {},
     "output_type": "execute_result"
    }
   ],
   "source": [
    "len(Chihuahua) , len(Japanese_spaniel),len(Maltese_dog),len(Pekinese),len(Shih_Tzu),len(Blenheim_spaniel),len(papillon),len(toy_terrier),len(Rhodesian_ridgeback),len(Afghan_hound)\n",
    "#### so many data we need to agument the data"
   ],
   "metadata": {
    "collapsed": false
   }
  },
  {
   "cell_type": "code",
   "execution_count": 3,
   "outputs": [],
   "source": [],
   "metadata": {
    "collapsed": false
   }
  },
  {
   "cell_type": "code",
   "execution_count": 3,
   "outputs": [],
   "source": [],
   "metadata": {
    "collapsed": false
   }
  },
  {
   "cell_type": "code",
   "execution_count": 3,
   "outputs": [],
   "source": [],
   "metadata": {
    "collapsed": false
   }
  },
  {
   "cell_type": "code",
   "execution_count": 4,
   "outputs": [],
   "source": [
    "def split(dir):\n",
    "    train = []\n",
    "    val = []\n",
    "    test = []\n",
    "    for i in range(145):\n",
    "        if i <90:\n",
    "            train.append(dir[i])\n",
    "        elif i >= 90 and i < 120 :\n",
    "            val.append(dir[i])\n",
    "        else:\n",
    "            test.append(dir[i])\n",
    "    return train , val ,test"
   ],
   "metadata": {
    "collapsed": false
   }
  },
  {
   "cell_type": "code",
   "execution_count": 5,
   "outputs": [],
   "source": [
    "Chihuahua_train,Chihuahua_val,Chihuahua_test = split(Chihuahua)\n",
    "Japanese_spaniel_train,Japanese_spaniel_val,Japanese_spaniel_test = split(Japanese_spaniel)\n",
    "Maltese_dog_train,Maltese_dog_val,Maltese_dog_test =split(Maltese_dog)\n",
    "\n",
    "Pekinese_train,Pekinese_val,Pekinese_test = split(Pekinese)\n",
    "Shih_Tzu_train,Shih_Tzu_val,Shih_Tzu_test = split(Shih_Tzu)\n",
    "Blenheim_spaniel_train ,Blenheim_spaniel_val,Blenheim_spaniel_test =split(Blenheim_spaniel)\n",
    "papillon_train,papillon_val,papillon_test =split(papillon)\n",
    "toy_terrier_train,toy_terrier_val,toy_terrier_test=split(toy_terrier)\n",
    "Rhodesian_ridgeback_train ,Rhodesian_val ,Rhodesian_ridgeback_test = split(Rhodesian_ridgeback)\n",
    "Afghan_hound_train ,Afghan_hound_val,Afghan_hound_test = split(Afghan_hound)"
   ],
   "metadata": {
    "collapsed": false
   }
  },
  {
   "cell_type": "code",
   "execution_count": 6,
   "outputs": [
    {
     "data": {
      "text/plain": "30"
     },
     "execution_count": 6,
     "metadata": {},
     "output_type": "execute_result"
    }
   ],
   "source": [
    "len(Afghan_hound_val)"
   ],
   "metadata": {
    "collapsed": false
   }
  },
  {
   "cell_type": "markdown",
   "source": [
    "### Data agumentation"
   ],
   "metadata": {
    "collapsed": false
   }
  },
  {
   "cell_type": "code",
   "execution_count": 7,
   "outputs": [],
   "source": [
    "### Data Agumintaion\n",
    "Agum = ImageDataGenerator(rotation_range=40,width_shift_range=0.2,height_shift_range=0.2,zoom_range=0.2,horizontal_flip=True,fill_mode='nearest')\n",
    "\n",
    "def Agument(dir,name,path,PATH):\n",
    "    for i in range(len(dir)):\n",
    "        img = load_img(path+dir[i])\n",
    "        img_array = img_to_array(img)\n",
    "        img_array = img_array.reshape((1,)+img_array.shape)\n",
    "        j = 0\n",
    "        for x in Agum.flow(img_array,save_to_dir=PATH,batch_size=90,save_prefix=name,save_format='jpg'):\n",
    "            j+=1\n",
    "            if j > 20:\n",
    "                break\n"
   ],
   "metadata": {
    "collapsed": false
   }
  },
  {
   "cell_type": "code",
   "execution_count": 7,
   "outputs": [],
   "source": [],
   "metadata": {
    "collapsed": false
   }
  },
  {
   "cell_type": "code",
   "execution_count": 8,
   "outputs": [],
   "source": [
    "### Dont run it\n",
    "Agument(Chihuahua_train,'Chihuahua',\"E:\\project _dogs\\image_after_COP\\Chihuahua/\",\"E:\\project _dogs\\Agumented\\Chihuahua\")\n",
    "Agument(Japanese_spaniel_train, 'Japanese_spaniel', \"E:\\project _dogs\\image_after_COP\\Japanese_spaniel/\",\"E:\\project _dogs\\Agumented\\Japanese_spaniel\")\n",
    "Agument(Maltese_dog_train, 'Maltese_dog', \"E:\\project _dogs\\image_after_COP\\Maltese_dog/\",\"E:\\project _dogs\\Agumented\\Maltese_dog\")\n",
    "Agument(Pekinese_train, 'Pekinese', \"E:\\project _dogs\\image_after_COP\\Pekinese/\",\"E:\\project _dogs\\Agumented\\Pekinese\")\n",
    "Agument(Shih_Tzu_train, \"Shih_Tzu\", \"E:\\project _dogs\\image_after_COP\\Shih-Tzu/\",\"E:\\project _dogs\\Agumented\\Shih-Tzu\")\n",
    "Agument(Blenheim_spaniel_train, \"Blenheim_spaniel\",\"E:\\project _dogs\\image_after_COP\\Blenheim_spaniel/\",\"E:\\project _dogs\\Agumented\\Blenheim_spaniel\")\n",
    "Agument(papillon_train, 'papillon', \"E:\\project _dogs\\image_after_COP\\papillon/\",\"E:\\project _dogs\\Agumented\\papillon\")\n",
    "Agument(toy_terrier_train, \"toy_terrier\", \"E:\\project _dogs\\image_after_COP/toy_terrier/\",\"E:\\project _dogs\\Agumented/toy_terrier\")\n",
    "Agument(Rhodesian_ridgeback_train, 'Rhodesian_ridgeback', \"E:\\project _dogs\\image_after_COP\\Rhodesian_ridgeback/\",\n",
    "        \"E:\\project _dogs\\Agumented\\Rhodesian_ridgeback\")\n",
    "Agument(Afghan_hound_train, 'Afghan_hound', \"E:\\project _dogs\\image_after_COP\\Afghan_hound/\",\"E:\\project _dogs\\Agumented\\Afghan_hound\")\n"
   ],
   "metadata": {
    "collapsed": false
   }
  },
  {
   "cell_type": "code",
   "execution_count": 8,
   "outputs": [],
   "source": [],
   "metadata": {
    "collapsed": false
   }
  },
  {
   "cell_type": "code",
   "execution_count": 8,
   "outputs": [],
   "source": [],
   "metadata": {
    "collapsed": false
   }
  },
  {
   "cell_type": "markdown",
   "source": [
    "### load  the data and process the data"
   ],
   "metadata": {
    "collapsed": false
   }
  },
  {
   "cell_type": "code",
   "execution_count": 9,
   "outputs": [],
   "source": [
    "train_label = []\n",
    "train_data = []\n",
    "def images(name,l,path,data,label):\n",
    "    for i in range(len(name)):\n",
    "        img = load_img(path+name[i],target_size=(28,28,3))\n",
    "        img_array = img_to_array(img)\n",
    "        img_array=img_array.reshape(28,28,3)\n",
    "        '''ravel = np.ravel(img_array)'''\n",
    "        img_array = img_array\n",
    "        data.append(img_array)\n",
    "        label.append(l)\n",
    "\n"
   ],
   "metadata": {
    "collapsed": false
   }
  },
  {
   "cell_type": "code",
   "execution_count": 10,
   "outputs": [],
   "source": [
    "Chihuahua_A = os.listdir(\"E:\\project _dogs\\Agumented\\Chihuahua\")\n",
    "Japanese_spaniel_A = os.listdir(\"E:\\project _dogs\\Agumented\\Japanese_spaniel\")\n",
    "Maltese_dog_A = os.listdir(\"E:\\project _dogs\\Agumented\\Maltese_dog\")\n",
    "Pekinese_A =os.listdir(\"E:\\project _dogs\\Agumented\\Pekinese\")\n",
    "Shih_Tzu_A = os.listdir(\"E:\\project _dogs\\Agumented\\Shih-Tzu\")\n",
    "Blenheim_spaniel_A = os.listdir(\"E:\\project _dogs\\Agumented\\Blenheim_spaniel\")\n",
    "papillon_A = os.listdir(\"E:\\project _dogs\\Agumented\\papillon\")\n",
    "toy_terrier_A = os.listdir(\"E:\\project _dogs\\Agumented/toy_terrier\")\n",
    "Rhodesian_ridgeback_A = os.listdir(\"E:\\project _dogs\\Agumented\\Rhodesian_ridgeback\")\n",
    "Afghan_hound_A = os.listdir(\"E:\\project _dogs\\Agumented\\Afghan_hound\")\n"
   ],
   "metadata": {
    "collapsed": false
   }
  },
  {
   "cell_type": "code",
   "execution_count": 11,
   "outputs": [
    {
     "data": {
      "text/plain": "1710"
     },
     "execution_count": 11,
     "metadata": {},
     "output_type": "execute_result"
    }
   ],
   "source": [
    "len(Japanese_spaniel_A)"
   ],
   "metadata": {
    "collapsed": false
   }
  },
  {
   "cell_type": "code",
   "execution_count": 12,
   "outputs": [],
   "source": [
    "images(Chihuahua_A,0,\"E:\\project _dogs\\Agumented\\Chihuahua/\",train_data,train_label)\n",
    "images(Japanese_spaniel_A,1,\"E:\\project _dogs\\Agumented\\Japanese_spaniel/\",train_data,train_label)\n",
    "images(Maltese_dog_A,2,\"E:\\project _dogs\\Agumented\\Maltese_dog/\",train_data,train_label)\n",
    "images(Pekinese_A,3,\"E:\\project _dogs\\Agumented\\Pekinese/\",train_data,train_label)\n",
    "images(Shih_Tzu_A,4,\"E:\\project _dogs\\Agumented\\Shih-Tzu/\",train_data,train_label)\n",
    "images(Blenheim_spaniel_A,5,\"E:\\project _dogs\\Agumented\\Blenheim_spaniel/\",train_data,train_label)\n",
    "images(papillon_A,6,\"E:\\project _dogs\\Agumented\\papillon/\",train_data,train_label)\n",
    "images(toy_terrier_A,7,\"E:\\project _dogs\\Agumented/toy_terrier/\",train_data,train_label)\n",
    "images(Rhodesian_ridgeback_A,8,\"E:\\project _dogs\\Agumented\\Rhodesian_ridgeback/\",train_data,train_label)\n",
    "images(Afghan_hound_A,9,\"E:\\project _dogs\\Agumented\\Afghan_hound/\",train_data,train_label)\n"
   ],
   "metadata": {
    "collapsed": false
   }
  },
  {
   "cell_type": "code",
   "execution_count": 12,
   "outputs": [],
   "source": [],
   "metadata": {
    "collapsed": false
   }
  },
  {
   "cell_type": "code",
   "execution_count": 12,
   "outputs": [],
   "source": [],
   "metadata": {
    "collapsed": false
   }
  },
  {
   "cell_type": "code",
   "execution_count": 12,
   "outputs": [],
   "source": [],
   "metadata": {
    "collapsed": false
   }
  },
  {
   "cell_type": "code",
   "execution_count": 13,
   "outputs": [
    {
     "data": {
      "text/plain": "[0,\n 0,\n 0,\n 0,\n 0,\n 0,\n 0,\n 0,\n 0,\n 0,\n 0,\n 0,\n 0,\n 0,\n 0,\n 0,\n 0,\n 0,\n 0,\n 0,\n 0,\n 0,\n 0,\n 0,\n 0,\n 0,\n 0,\n 0,\n 0,\n 0,\n 0,\n 0,\n 0,\n 0,\n 0,\n 0,\n 0,\n 0,\n 0,\n 0,\n 0,\n 0,\n 0,\n 0,\n 0,\n 0,\n 0,\n 0,\n 0,\n 0,\n 0,\n 0,\n 0,\n 0,\n 0,\n 0,\n 0,\n 0,\n 0,\n 0,\n 0,\n 0,\n 0,\n 0,\n 0,\n 0,\n 0,\n 0,\n 0,\n 0,\n 0,\n 0,\n 0,\n 0,\n 0,\n 0,\n 0,\n 0,\n 0,\n 0,\n 0,\n 0,\n 0,\n 0,\n 0,\n 0,\n 0,\n 0,\n 0,\n 0,\n 0,\n 0,\n 0,\n 0,\n 0,\n 0,\n 0,\n 0,\n 0,\n 0,\n 0,\n 0,\n 0,\n 0,\n 0,\n 0,\n 0,\n 0,\n 0,\n 0,\n 0,\n 0,\n 0,\n 0,\n 0,\n 0,\n 0,\n 0,\n 0,\n 0,\n 0,\n 0,\n 0,\n 0,\n 0,\n 0,\n 0,\n 0,\n 0,\n 0,\n 0,\n 0,\n 0,\n 0,\n 0,\n 0,\n 0,\n 0,\n 0,\n 0,\n 0,\n 0,\n 0,\n 0,\n 0,\n 0,\n 0,\n 0,\n 0,\n 0,\n 0,\n 0,\n 0,\n 0,\n 0,\n 0,\n 0,\n 0,\n 0,\n 0,\n 0,\n 0,\n 0,\n 0,\n 0,\n 0,\n 0,\n 0,\n 0,\n 0,\n 0,\n 0,\n 0,\n 0,\n 0,\n 0,\n 0,\n 0,\n 0,\n 0,\n 0,\n 0,\n 0,\n 0,\n 0,\n 0,\n 0,\n 0,\n 0,\n 0,\n 0,\n 0,\n 0,\n 0,\n 0,\n 0,\n 0,\n 0,\n 0,\n 0,\n 0,\n 0,\n 0,\n 0,\n 0,\n 0,\n 0,\n 0,\n 0,\n 0,\n 0,\n 0,\n 0,\n 0,\n 0,\n 0,\n 0,\n 0,\n 0,\n 0,\n 0,\n 0,\n 0,\n 0,\n 0,\n 0,\n 0,\n 0,\n 0,\n 0,\n 0,\n 0,\n 0,\n 0,\n 0,\n 0,\n 0,\n 0,\n 0,\n 0,\n 0,\n 0,\n 0,\n 0,\n 0,\n 0,\n 0,\n 0,\n 0,\n 0,\n 0,\n 0,\n 0,\n 0,\n 0,\n 0,\n 0,\n 0,\n 0,\n 0,\n 0,\n 0,\n 0,\n 0,\n 0,\n 0,\n 0,\n 0,\n 0,\n 0,\n 0,\n 0,\n 0,\n 0,\n 0,\n 0,\n 0,\n 0,\n 0,\n 0,\n 0,\n 0,\n 0,\n 0,\n 0,\n 0,\n 0,\n 0,\n 0,\n 0,\n 0,\n 0,\n 0,\n 0,\n 0,\n 0,\n 0,\n 0,\n 0,\n 0,\n 0,\n 0,\n 0,\n 0,\n 0,\n 0,\n 0,\n 0,\n 0,\n 0,\n 0,\n 0,\n 0,\n 0,\n 0,\n 0,\n 0,\n 0,\n 0,\n 0,\n 0,\n 0,\n 0,\n 0,\n 0,\n 0,\n 0,\n 0,\n 0,\n 0,\n 0,\n 0,\n 0,\n 0,\n 0,\n 0,\n 0,\n 0,\n 0,\n 0,\n 0,\n 0,\n 0,\n 0,\n 0,\n 0,\n 0,\n 0,\n 0,\n 0,\n 0,\n 0,\n 0,\n 0,\n 0,\n 0,\n 0,\n 0,\n 0,\n 0,\n 0,\n 0,\n 0,\n 0,\n 0,\n 0,\n 0,\n 0,\n 0,\n 0,\n 0,\n 0,\n 0,\n 0,\n 0,\n 0,\n 0,\n 0,\n 0,\n 0,\n 0,\n 0,\n 0,\n 0,\n 0,\n 0,\n 0,\n 0,\n 0,\n 0,\n 0,\n 0,\n 0,\n 0,\n 0,\n 0,\n 0,\n 0,\n 0,\n 0,\n 0,\n 0,\n 0,\n 0,\n 0,\n 0,\n 0,\n 0,\n 0,\n 0,\n 0,\n 0,\n 0,\n 0,\n 0,\n 0,\n 0,\n 0,\n 0,\n 0,\n 0,\n 0,\n 0,\n 0,\n 0,\n 0,\n 0,\n 0,\n 0,\n 0,\n 0,\n 0,\n 0,\n 0,\n 0,\n 0,\n 0,\n 0,\n 0,\n 0,\n 0,\n 0,\n 0,\n 0,\n 0,\n 0,\n 0,\n 0,\n 0,\n 0,\n 0,\n 0,\n 0,\n 0,\n 0,\n 0,\n 0,\n 0,\n 0,\n 0,\n 0,\n 0,\n 0,\n 0,\n 0,\n 0,\n 0,\n 0,\n 0,\n 0,\n 0,\n 0,\n 0,\n 0,\n 0,\n 0,\n 0,\n 0,\n 0,\n 0,\n 0,\n 0,\n 0,\n 0,\n 0,\n 0,\n 0,\n 0,\n 0,\n 0,\n 0,\n 0,\n 0,\n 0,\n 0,\n 0,\n 0,\n 0,\n 0,\n 0,\n 0,\n 0,\n 0,\n 0,\n 0,\n 0,\n 0,\n 0,\n 0,\n 0,\n 0,\n 0,\n 0,\n 0,\n 0,\n 0,\n 0,\n 0,\n 0,\n 0,\n 0,\n 0,\n 0,\n 0,\n 0,\n 0,\n 0,\n 0,\n 0,\n 0,\n 0,\n 0,\n 0,\n 0,\n 0,\n 0,\n 0,\n 0,\n 0,\n 0,\n 0,\n 0,\n 0,\n 0,\n 0,\n 0,\n 0,\n 0,\n 0,\n 0,\n 0,\n 0,\n 0,\n 0,\n 0,\n 0,\n 0,\n 0,\n 0,\n 0,\n 0,\n 0,\n 0,\n 0,\n 0,\n 0,\n 0,\n 0,\n 0,\n 0,\n 0,\n 0,\n 0,\n 0,\n 0,\n 0,\n 0,\n 0,\n 0,\n 0,\n 0,\n 0,\n 0,\n 0,\n 0,\n 0,\n 0,\n 0,\n 0,\n 0,\n 0,\n 0,\n 0,\n 0,\n 0,\n 0,\n 0,\n 0,\n 0,\n 0,\n 0,\n 0,\n 0,\n 0,\n 0,\n 0,\n 0,\n 0,\n 0,\n 0,\n 0,\n 0,\n 0,\n 0,\n 0,\n 0,\n 0,\n 0,\n 0,\n 0,\n 0,\n 0,\n 0,\n 0,\n 0,\n 0,\n 0,\n 0,\n 0,\n 0,\n 0,\n 0,\n 0,\n 0,\n 0,\n 0,\n 0,\n 0,\n 0,\n 0,\n 0,\n 0,\n 0,\n 0,\n 0,\n 0,\n 0,\n 0,\n 0,\n 0,\n 0,\n 0,\n 0,\n 0,\n 0,\n 0,\n 0,\n 0,\n 0,\n 0,\n 0,\n 0,\n 0,\n 0,\n 0,\n 0,\n 0,\n 0,\n 0,\n 0,\n 0,\n 0,\n 0,\n 0,\n 0,\n 0,\n 0,\n 0,\n 0,\n 0,\n 0,\n 0,\n 0,\n 0,\n 0,\n 0,\n 0,\n 0,\n 0,\n 0,\n 0,\n 0,\n 0,\n 0,\n 0,\n 0,\n 0,\n 0,\n 0,\n 0,\n 0,\n 0,\n 0,\n 0,\n 0,\n 0,\n 0,\n 0,\n 0,\n 0,\n 0,\n 0,\n 0,\n 0,\n 0,\n 0,\n 0,\n 0,\n 0,\n 0,\n 0,\n 0,\n 0,\n 0,\n 0,\n 0,\n 0,\n 0,\n 0,\n 0,\n 0,\n 0,\n 0,\n 0,\n 0,\n 0,\n 0,\n 0,\n 0,\n 0,\n 0,\n 0,\n 0,\n 0,\n 0,\n 0,\n 0,\n 0,\n 0,\n 0,\n 0,\n 0,\n 0,\n 0,\n 0,\n 0,\n 0,\n 0,\n 0,\n 0,\n 0,\n 0,\n 0,\n 0,\n 0,\n 0,\n 0,\n 0,\n 0,\n 0,\n 0,\n 0,\n 0,\n 0,\n 0,\n 0,\n 0,\n 0,\n 0,\n 0,\n 0,\n 0,\n 0,\n 0,\n 0,\n 0,\n 0,\n 0,\n 0,\n 0,\n 0,\n 0,\n 0,\n 0,\n 0,\n 0,\n 0,\n 0,\n 0,\n 0,\n 0,\n 0,\n 0,\n 0,\n 0,\n 0,\n 0,\n 0,\n 0,\n 0,\n 0,\n 0,\n 0,\n 0,\n 0,\n 0,\n 0,\n 0,\n 0,\n 0,\n 0,\n 0,\n 0,\n 0,\n 0,\n 0,\n 0,\n 0,\n 0,\n 0,\n 0,\n 0,\n 0,\n 0,\n 0,\n 0,\n 0,\n 0,\n 0,\n 0,\n 0,\n 0,\n 0,\n 0,\n 0,\n 0,\n 0,\n 0,\n 0,\n 0,\n 0,\n 0,\n 0,\n 0,\n 0,\n 0,\n 0,\n 0,\n 0,\n 0,\n 0,\n 0,\n 0,\n 0,\n 0,\n 0,\n 0,\n 0,\n 0,\n 0,\n 0,\n 0,\n 0,\n 0,\n 0,\n 0,\n 0,\n 0,\n 0,\n 0,\n 0,\n 0,\n 0,\n 0,\n 0,\n 0,\n 0,\n 0,\n 0,\n 0,\n 0,\n 0,\n 0,\n 0,\n 0,\n 0,\n 0,\n 0,\n 0,\n 0,\n 0,\n 0,\n 0,\n 0,\n 0,\n 0,\n 0,\n 0,\n 0,\n 0,\n 0,\n 0,\n 0,\n 0,\n 0,\n 0,\n 0,\n 0,\n 0,\n 0,\n 0,\n 0,\n 0,\n 0,\n 0,\n 0,\n 0,\n 0,\n 0,\n 0,\n 0,\n 0,\n 0,\n 0,\n 0,\n 0,\n 0,\n 0,\n 0,\n 0,\n 0,\n 0,\n 0,\n 0,\n 0,\n 0,\n 0,\n 0,\n 0,\n 0,\n 0,\n 0,\n 0,\n 0,\n 0,\n 0,\n 0,\n 0,\n 0,\n 0,\n 0,\n 0,\n 0,\n 0,\n 0,\n 0,\n 0,\n 0,\n 0,\n 0,\n 0,\n 0,\n 0,\n 0,\n 0,\n 0,\n 0,\n 0,\n 0,\n 0,\n 0,\n 0,\n 0,\n 0,\n 0,\n 0,\n 0,\n 0,\n 0,\n 0,\n 0,\n 0,\n 0,\n 0,\n 0,\n 0,\n 0,\n 0,\n 0,\n 0,\n ...]"
     },
     "execution_count": 13,
     "metadata": {},
     "output_type": "execute_result"
    }
   ],
   "source": [
    "train_label"
   ],
   "metadata": {
    "collapsed": false
   }
  },
  {
   "cell_type": "code",
   "execution_count": 14,
   "outputs": [],
   "source": [
    "#processing the answers\n",
    "\n",
    "train_data =np.array(train_data)\n",
    "train_label = np.array(train_label)\n",
    "train_data , train_label=shuffle(train_data,train_label)"
   ],
   "metadata": {
    "collapsed": false
   }
  },
  {
   "cell_type": "code",
   "execution_count": 15,
   "outputs": [
    {
     "data": {
      "text/plain": "(17209,)"
     },
     "execution_count": 15,
     "metadata": {},
     "output_type": "execute_result"
    }
   ],
   "source": [
    "train_label.shape"
   ],
   "metadata": {
    "collapsed": false
   }
  },
  {
   "cell_type": "markdown",
   "source": [
    "### valdiation"
   ],
   "metadata": {
    "collapsed": false
   },
   "execution_count": 105
  },
  {
   "cell_type": "code",
   "execution_count": 15,
   "outputs": [],
   "source": [],
   "metadata": {
    "collapsed": false
   }
  },
  {
   "cell_type": "code",
   "execution_count": 16,
   "outputs": [
    {
     "data": {
      "text/plain": "(300, 300)"
     },
     "execution_count": 16,
     "metadata": {},
     "output_type": "execute_result"
    }
   ],
   "source": [
    "val_data= []\n",
    "val_label = []\n",
    "images(Chihuahua_val,0,\"E:\\project _dogs\\image_after_COP\\Chihuahua/\",val_data,val_label)\n",
    "images(Japanese_spaniel_val,1,\"E:\\project _dogs\\image_after_COP\\Japanese_spaniel/\",val_data,val_label)\n",
    "images(Maltese_dog_val,2,\"E:\\project _dogs\\image_after_COP\\Maltese_dog/\",val_data,val_label)\n",
    "images(Pekinese_val,3,\"E:\\project _dogs\\image_after_COP\\Pekinese/\",val_data,val_label)\n",
    "images(Shih_Tzu_val,4,\"E:\\project _dogs\\image_after_COP\\Shih-Tzu/\",val_data,val_label)\n",
    "images(Blenheim_spaniel_val,5,\"E:\\project _dogs\\image_after_COP\\Blenheim_spaniel/\",val_data,val_label)\n",
    "images(papillon_val,6,\"E:\\project _dogs\\image_after_COP\\papillon/\",val_data,val_label)\n",
    "images(toy_terrier_val,7,\"E:\\project _dogs\\image_after_COP/toy_terrier/\",val_data,val_label)\n",
    "images(Rhodesian_val,8,\"E:\\project _dogs\\image_after_COP\\Rhodesian_ridgeback/\",val_data,val_label)\n",
    "images(Afghan_hound_val,9,\"E:\\project _dogs\\image_after_COP\\Afghan_hound/\",val_data,val_label)\n",
    "\n",
    "\n",
    "len(val_data),len(val_label)"
   ],
   "metadata": {
    "collapsed": false
   }
  },
  {
   "cell_type": "code",
   "execution_count": 16,
   "outputs": [],
   "source": [],
   "metadata": {
    "collapsed": false
   }
  },
  {
   "cell_type": "code",
   "execution_count": 17,
   "outputs": [],
   "source": [
    "\n",
    "val_data =np.array(val_data)\n",
    "val_label = np.array(val_label)\n",
    "val_data,val_label = shuffle(val_data,val_label)\n"
   ],
   "metadata": {
    "collapsed": false
   }
  },
  {
   "cell_type": "markdown",
   "source": [
    "### test"
   ],
   "metadata": {
    "collapsed": false
   }
  },
  {
   "cell_type": "code",
   "execution_count": 18,
   "outputs": [],
   "source": [
    "test_data = []\n",
    "test_label = []\n",
    "\n",
    "images(Chihuahua_test,0,\"E:\\project _dogs\\image_after_COP\\Chihuahua/\",test_data,test_label)\n",
    "images(Japanese_spaniel_test,1,\"E:\\project _dogs\\image_after_COP\\Japanese_spaniel/\",test_data,test_label)\n",
    "images(Maltese_dog_test,2,\"E:\\project _dogs\\image_after_COP\\Maltese_dog/\",test_data,test_label)\n",
    "images(Pekinese_test,3,\"E:\\project _dogs\\image_after_COP\\Pekinese/\",test_data,test_label)\n",
    "images(Shih_Tzu_test,4,\"E:\\project _dogs\\image_after_COP\\Shih-Tzu/\",test_data,test_label)\n",
    "images(Blenheim_spaniel_test,5,\"E:\\project _dogs\\image_after_COP\\Blenheim_spaniel/\",test_data,test_label)\n",
    "images(papillon_test,6,\"E:\\project _dogs\\image_after_COP\\papillon/\",test_data,test_label)\n",
    "images(toy_terrier_test,7,\"E:\\project _dogs\\image_after_COP/toy_terrier/\",test_data,test_label)\n",
    "images(Rhodesian_ridgeback_test,8,\"E:\\project _dogs\\image_after_COP\\Rhodesian_ridgeback/\",test_data,test_label)\n",
    "images(Afghan_hound_test,9,\"E:\\project _dogs\\image_after_COP\\Afghan_hound/\",test_data,test_label)\n",
    "\n",
    "\n",
    "test_data =np.array(test_data)\n",
    "test_label = np.array(test_label)\n",
    "test_data,test_label = shuffle(test_data,test_label)"
   ],
   "metadata": {
    "collapsed": false
   }
  },
  {
   "cell_type": "markdown",
   "source": [],
   "metadata": {
    "collapsed": false
   }
  },
  {
   "cell_type": "code",
   "execution_count": 19,
   "outputs": [
    {
     "data": {
      "text/plain": "(250, 28, 28, 3)"
     },
     "execution_count": 19,
     "metadata": {},
     "output_type": "execute_result"
    }
   ],
   "source": [
    "test_data.shape"
   ],
   "metadata": {
    "collapsed": false
   }
  },
  {
   "cell_type": "code",
   "execution_count": 20,
   "outputs": [
    {
     "data": {
      "text/plain": "(300, 28, 28, 3)"
     },
     "execution_count": 20,
     "metadata": {},
     "output_type": "execute_result"
    }
   ],
   "source": [
    "val_data.shape"
   ],
   "metadata": {
    "collapsed": false
   }
  },
  {
   "cell_type": "code",
   "execution_count": 20,
   "outputs": [],
   "source": [
    "\n",
    "\n"
   ],
   "metadata": {
    "collapsed": false
   }
  },
  {
   "cell_type": "code",
   "execution_count": 20,
   "outputs": [],
   "source": [],
   "metadata": {
    "collapsed": false
   }
  },
  {
   "cell_type": "code",
   "execution_count": 20,
   "outputs": [],
   "source": [],
   "metadata": {
    "collapsed": false
   }
  },
  {
   "cell_type": "code",
   "execution_count": 20,
   "outputs": [],
   "source": [],
   "metadata": {
    "collapsed": false
   }
  },
  {
   "cell_type": "code",
   "execution_count": 21,
   "outputs": [],
   "source": [
    "model = Sequential()\n",
    "model.add(Flatten(input_shape=[28, 28,3]))\n",
    "\n",
    "\n",
    "model.add(Dense(300, activation=\"relu\"))\n",
    "\n",
    "model.add(BatchNormalization())\n",
    "model.add(Dropout(0.25))\n",
    "model.add(Dense(10, activation=\"relu\"))\n",
    "model.add(BatchNormalization())\n",
    "model.add(Dropout(0.25))\n",
    "\n",
    "model.add(Dense(10, activation=\"softmax\"))\n",
    "np.random.seed(42)\n",
    "tf.random.set_seed(42)"
   ],
   "metadata": {
    "collapsed": false
   }
  },
  {
   "cell_type": "code",
   "execution_count": 22,
   "outputs": [
    {
     "name": "stdout",
     "output_type": "stream",
     "text": [
      "Model: \"sequential\"\n",
      "_________________________________________________________________\n",
      " Layer (type)                Output Shape              Param #   \n",
      "=================================================================\n",
      " flatten (Flatten)           (None, 2352)              0         \n",
      "                                                                 \n",
      " dense (Dense)               (None, 300)               705900    \n",
      "                                                                 \n",
      " batch_normalization (BatchN  (None, 300)              1200      \n",
      " ormalization)                                                   \n",
      "                                                                 \n",
      " dropout (Dropout)           (None, 300)               0         \n",
      "                                                                 \n",
      " dense_1 (Dense)             (None, 10)                3010      \n",
      "                                                                 \n",
      " batch_normalization_1 (Batc  (None, 10)               40        \n",
      " hNormalization)                                                 \n",
      "                                                                 \n",
      " dropout_1 (Dropout)         (None, 10)                0         \n",
      "                                                                 \n",
      " dense_2 (Dense)             (None, 10)                110       \n",
      "                                                                 \n",
      "=================================================================\n",
      "Total params: 710,260\n",
      "Trainable params: 709,640\n",
      "Non-trainable params: 620\n",
      "_________________________________________________________________\n"
     ]
    }
   ],
   "source": [
    "model.summary()"
   ],
   "metadata": {
    "collapsed": false
   }
  },
  {
   "cell_type": "code",
   "execution_count": 23,
   "outputs": [],
   "source": [
    "model.compile(loss=\"sparse_categorical_crossentropy\",\n",
    "              optimizer=\"Adam\",\n",
    "              metrics=[\"accuracy\"])"
   ],
   "metadata": {
    "collapsed": false
   }
  },
  {
   "cell_type": "code",
   "execution_count": 24,
   "outputs": [
    {
     "name": "stdout",
     "output_type": "stream",
     "text": [
      "Epoch 1/30\n",
      "538/538 [==============================] - 8s 11ms/step - loss: 2.2674 - accuracy: 0.1897 - val_loss: 2.1561 - val_accuracy: 0.2167\n",
      "Epoch 2/30\n",
      "538/538 [==============================] - 5s 10ms/step - loss: 2.0895 - accuracy: 0.2357 - val_loss: 2.0326 - val_accuracy: 0.2767\n",
      "Epoch 3/30\n",
      "538/538 [==============================] - 5s 10ms/step - loss: 2.0522 - accuracy: 0.2550 - val_loss: 1.9970 - val_accuracy: 0.3100\n",
      "Epoch 4/30\n",
      "538/538 [==============================] - 5s 9ms/step - loss: 2.0461 - accuracy: 0.2582 - val_loss: 2.0004 - val_accuracy: 0.2800\n",
      "Epoch 5/30\n",
      "538/538 [==============================] - 5s 10ms/step - loss: 2.0329 - accuracy: 0.2640 - val_loss: 2.0045 - val_accuracy: 0.2800\n",
      "Epoch 6/30\n",
      "538/538 [==============================] - 5s 9ms/step - loss: 2.0327 - accuracy: 0.2590 - val_loss: 1.9474 - val_accuracy: 0.2967\n",
      "Epoch 7/30\n",
      "538/538 [==============================] - 5s 10ms/step - loss: 2.0211 - accuracy: 0.2699 - val_loss: 2.0091 - val_accuracy: 0.2833\n",
      "Epoch 8/30\n",
      "538/538 [==============================] - 5s 10ms/step - loss: 2.0275 - accuracy: 0.2664 - val_loss: 2.0850 - val_accuracy: 0.2700\n",
      "Epoch 9/30\n",
      "538/538 [==============================] - 5s 9ms/step - loss: 2.0178 - accuracy: 0.2661 - val_loss: 2.0030 - val_accuracy: 0.3067\n",
      "Epoch 10/30\n",
      "538/538 [==============================] - 5s 10ms/step - loss: 2.0136 - accuracy: 0.2710 - val_loss: 2.0739 - val_accuracy: 0.2467\n",
      "Epoch 11/30\n",
      "538/538 [==============================] - 5s 10ms/step - loss: 2.0045 - accuracy: 0.2749 - val_loss: 1.9699 - val_accuracy: 0.2933\n",
      "Epoch 12/30\n",
      "538/538 [==============================] - 5s 10ms/step - loss: 1.9992 - accuracy: 0.2777 - val_loss: 2.0338 - val_accuracy: 0.2833\n",
      "Epoch 13/30\n",
      "538/538 [==============================] - 5s 9ms/step - loss: 1.9913 - accuracy: 0.2833 - val_loss: 2.0571 - val_accuracy: 0.3000\n",
      "Epoch 14/30\n",
      "538/538 [==============================] - 5s 10ms/step - loss: 1.9993 - accuracy: 0.2799 - val_loss: 2.1073 - val_accuracy: 0.3400\n",
      "Epoch 15/30\n",
      "538/538 [==============================] - 6s 11ms/step - loss: 2.0141 - accuracy: 0.2685 - val_loss: 2.4327 - val_accuracy: 0.2600\n",
      "Epoch 16/30\n",
      "538/538 [==============================] - 5s 10ms/step - loss: 2.0158 - accuracy: 0.2690 - val_loss: 2.1226 - val_accuracy: 0.3100\n",
      "Epoch 17/30\n",
      "538/538 [==============================] - 6s 12ms/step - loss: 2.0111 - accuracy: 0.2707 - val_loss: 2.0201 - val_accuracy: 0.3133\n",
      "Epoch 18/30\n",
      "538/538 [==============================] - 4s 8ms/step - loss: 1.9989 - accuracy: 0.2841 - val_loss: 2.0876 - val_accuracy: 0.3100\n",
      "Epoch 19/30\n",
      "538/538 [==============================] - 4s 8ms/step - loss: 1.9980 - accuracy: 0.2735 - val_loss: 2.6532 - val_accuracy: 0.2133\n",
      "Epoch 20/30\n",
      "538/538 [==============================] - 4s 8ms/step - loss: 1.9924 - accuracy: 0.2822 - val_loss: 1.9897 - val_accuracy: 0.3067\n",
      "Epoch 21/30\n",
      "538/538 [==============================] - 4s 7ms/step - loss: 1.9828 - accuracy: 0.2844 - val_loss: 1.9783 - val_accuracy: 0.2867\n",
      "Epoch 22/30\n",
      "538/538 [==============================] - 4s 8ms/step - loss: 1.9836 - accuracy: 0.2863 - val_loss: 1.9911 - val_accuracy: 0.2767\n",
      "Epoch 23/30\n",
      "538/538 [==============================] - 4s 7ms/step - loss: 1.9856 - accuracy: 0.2840 - val_loss: 1.9847 - val_accuracy: 0.2767\n",
      "Epoch 24/30\n",
      "538/538 [==============================] - 4s 7ms/step - loss: 1.9822 - accuracy: 0.2871 - val_loss: 1.9891 - val_accuracy: 0.2833\n",
      "Epoch 25/30\n",
      "538/538 [==============================] - 4s 8ms/step - loss: 1.9809 - accuracy: 0.2841 - val_loss: 2.0612 - val_accuracy: 0.2967\n",
      "Epoch 26/30\n",
      "538/538 [==============================] - 4s 7ms/step - loss: 1.9868 - accuracy: 0.2812 - val_loss: 1.9834 - val_accuracy: 0.2933\n",
      "Epoch 27/30\n",
      "538/538 [==============================] - 5s 9ms/step - loss: 1.9754 - accuracy: 0.2912 - val_loss: 2.1384 - val_accuracy: 0.2400\n",
      "Epoch 28/30\n",
      "538/538 [==============================] - 4s 7ms/step - loss: 1.9700 - accuracy: 0.2926 - val_loss: 1.9563 - val_accuracy: 0.2667\n",
      "Epoch 29/30\n",
      "538/538 [==============================] - 4s 7ms/step - loss: 1.9660 - accuracy: 0.2881 - val_loss: 1.9915 - val_accuracy: 0.2933\n",
      "Epoch 30/30\n",
      "538/538 [==============================] - 4s 7ms/step - loss: 1.9679 - accuracy: 0.2890 - val_loss: 1.9374 - val_accuracy: 0.2967\n"
     ]
    }
   ],
   "source": [
    "history = model.fit(train_data, train_label, epochs=30,\n",
    "                    validation_data=(val_data, val_label))"
   ],
   "metadata": {
    "collapsed": false
   }
  },
  {
   "cell_type": "code",
   "execution_count": 25,
   "outputs": [
    {
     "name": "stdout",
     "output_type": "stream",
     "text": [
      "8/8 [==============================] - 0s 2ms/step - loss: 1.9834 - accuracy: 0.2960\n"
     ]
    }
   ],
   "source": [
    "x ,y= model.evaluate(test_data,test_label)"
   ],
   "metadata": {
    "collapsed": false
   }
  },
  {
   "cell_type": "markdown",
   "source": [
    "### confusion matrics"
   ],
   "metadata": {
    "collapsed": false
   }
  },
  {
   "cell_type": "code",
   "execution_count": 26,
   "outputs": [],
   "source": [
    "predictions = model.predict_generator(test_data,steps=1,verbose=0)\n",
    "rounded_prediction = np.argmax(predictions, axis=-1)\n"
   ],
   "metadata": {
    "collapsed": false
   }
  },
  {
   "cell_type": "code",
   "execution_count": 26,
   "outputs": [],
   "source": [],
   "metadata": {
    "collapsed": false
   }
  },
  {
   "cell_type": "code",
   "execution_count": 27,
   "outputs": [],
   "source": [
    "cm = confusion_matrix(y_true=test_label, y_pred=rounded_prediction)"
   ],
   "metadata": {
    "collapsed": false
   }
  },
  {
   "cell_type": "code",
   "execution_count": 28,
   "outputs": [],
   "source": [
    "def plot_confusion_matrix(cm, classes,\n",
    "                          normalize=False,\n",
    "                          title='Confusion matrix',\n",
    "                          cmap=plt.cm.Blues):\n",
    "    \"\"\"\n",
    "    This function prints and plots the confusion matrix.\n",
    "    Normalization can be applied by setting `normalize=True`.\n",
    "    \"\"\"\n",
    "    plt.imshow(cm, interpolation='nearest', cmap=cmap)\n",
    "    plt.title(title)\n",
    "    plt.colorbar()\n",
    "    tick_marks = np.arange(len(classes))\n",
    "    plt.xticks(tick_marks, classes, rotation=45)\n",
    "    plt.yticks(tick_marks, classes)\n",
    "\n",
    "    if normalize:\n",
    "        cm = cm.astype('float') / cm.sum(axis=1)[:, np.newaxis]\n",
    "        print(\"Normalized confusion matrix\")\n",
    "    else:\n",
    "        print('Confusion matrix, without normalization')\n",
    "\n",
    "    print(cm)\n",
    "\n",
    "    thresh = cm.max() / 2.\n",
    "    for i, j in itertools.product(range(cm.shape[0]), range(cm.shape[1])):\n",
    "        plt.text(j, i, cm[i, j],\n",
    "                 horizontalalignment=\"center\",\n",
    "                 color=\"black\" if cm[i, j] > thresh else \"black\")\n",
    "\n",
    "    plt.tight_layout()\n",
    "    plt.ylabel('True label')\n",
    "    plt.xlabel('Predicted label')"
   ],
   "metadata": {
    "collapsed": false
   }
  },
  {
   "cell_type": "code",
   "execution_count": 29,
   "outputs": [
    {
     "name": "stdout",
     "output_type": "stream",
     "text": [
      "Confusion matrix, without normalization\n",
      "[[ 2  3  5  1  0  5  3  1  5  0]\n",
      " [ 0 10  5  0  3  1  6  0  0  0]\n",
      " [ 0  3 18  0  1  0  0  1  0  2]\n",
      " [ 2  3  3  1  0  3  2  3  6  2]\n",
      " [ 1  5  8  1  2  2  1  1  1  3]\n",
      " [ 0  4  6  0  0  7  2  1  4  1]\n",
      " [ 0  7  0  0  1  3  7  3  2  2]\n",
      " [ 0  5  2  0  2  1 10  2  1  2]\n",
      " [ 0  0  1  3  0  2  0  1 17  1]\n",
      " [ 0  2  3  0  0  4  0  5  3  8]]\n"
     ]
    },
    {
     "data": {
      "text/plain": "<Figure size 432x288 with 2 Axes>",
      "image/png": "[encoded data removed]"
     },
     "metadata": {},
     "output_type": "display_data"
    }
   ],
   "source": [
    "cm_plot_labels = [\"Chihuahua\", 'Japanese_spaniel', 'Maltese_dog', 'Pekinese','Shih_Tzu','Blenheim_spaniel','papillon','toy_terrier','Rhodesian_ridgeback','Afghan_hound']\n",
    "plot_confusion_matrix(cm=cm, classes=cm_plot_labels, title='confusion_matrix')"
   ],
   "metadata": {
    "collapsed": false
   }
  },
  {
   "cell_type": "code",
   "execution_count": 30,
   "outputs": [
    {
     "name": "stdout",
     "output_type": "stream",
     "text": [
      "                     precision    recall  f1-score   support\n",
      "\n",
      "          Chihuahua       0.40      0.08      0.13        25\n",
      "   Japanese_spaniel       0.24      0.40      0.30        25\n",
      "        Maltese_dog       0.35      0.72      0.47        25\n",
      "           Pekinese       0.17      0.04      0.06        25\n",
      "           Shih_Tzu       0.22      0.08      0.12        25\n",
      "   Blenheim_spaniel       0.25      0.28      0.26        25\n",
      "           papillon       0.23      0.28      0.25        25\n",
      "        toy_terrier       0.11      0.08      0.09        25\n",
      "Rhodesian_ridgeback       0.44      0.68      0.53        25\n",
      "       Afghan_hound       0.38      0.32      0.35        25\n",
      "\n",
      "           accuracy                           0.30       250\n",
      "          macro avg       0.28      0.30      0.26       250\n",
      "       weighted avg       0.28      0.30      0.26       250\n",
      "\n"
     ]
    }
   ],
   "source": [
    "print(classification_report(test_label,rounded_prediction, target_names=cm_plot_labels))"
   ],
   "metadata": {
    "collapsed": false
   }
  },
  {
   "cell_type": "code",
   "execution_count": 30,
   "outputs": [],
   "source": [],
   "metadata": {
    "collapsed": false
   }
  },
  {
   "cell_type": "code",
   "execution_count": 30,
   "outputs": [],
   "source": [],
   "metadata": {
    "collapsed": false
   }
  },
  {
   "cell_type": "code",
   "execution_count": 30,
   "outputs": [],
   "source": [],
   "metadata": {
    "collapsed": false
   }
  },
  {
   "cell_type": "code",
   "execution_count": 30,
   "outputs": [],
   "source": [],
   "metadata": {
    "collapsed": false
   }
  },
  {
   "cell_type": "code",
   "execution_count": 31,
   "outputs": [
    {
     "data": {
      "text/plain": "<Figure size 432x288 with 1 Axes>",
      "image/png": "[encoded data removed]"
     },
     "metadata": {},
     "output_type": "display_data"
    }
   ],
   "source": [
    "accs = history.history['accuracy']\n",
    "val_accs = history.history['val_accuracy']\n",
    "\n",
    "plt.plot(range(len(accs)),accs, label = 'Training_accuracy')\n",
    "plt.plot(range(len(accs)),val_accs, label = 'Validation_accuracy')\n",
    "plt.legend()\n",
    "plt.show()"
   ],
   "metadata": {
    "collapsed": false
   }
  },
  {
   "cell_type": "code",
   "execution_count": 32,
   "outputs": [
    {
     "data": {
      "text/plain": "<Figure size 432x288 with 1 Axes>",
      "image/png": "[encoded data removed]"
     },
     "metadata": {},
     "output_type": "display_data"
    }
   ],
   "source": [
    "accs = history.history['loss']\n",
    "val_accs = history.history['val_loss']\n",
    "\n",
    "plt.plot(range(len(accs)),accs, label = 'Training_loss')\n",
    "plt.plot(range(len(accs)),val_accs, label = 'Validation_loss')\n",
    "plt.legend()\n",
    "plt.show()"
   ],
   "metadata": {
    "collapsed": false
   }
  },
  {
   "cell_type": "markdown",
   "source": [
    "### CNN Model"
   ],
   "metadata": {
    "collapsed": false
   }
  },
  {
   "cell_type": "code",
   "execution_count": 32,
   "outputs": [],
   "source": [],
   "metadata": {
    "collapsed": false
   }
  },
  {
   "cell_type": "code",
   "execution_count": 33,
   "outputs": [
    {
     "name": "stdout",
     "output_type": "stream",
     "text": [
      "Model: \"sequential_1\"\n",
      "_________________________________________________________________\n",
      " Layer (type)                Output Shape              Param #   \n",
      "=================================================================\n",
      " conv2d (Conv2D)             (None, 28, 28, 32)        896       \n",
      "                                                                 \n",
      " batch_normalization_2 (Batc  (None, 28, 28, 32)       128       \n",
      " hNormalization)                                                 \n",
      "                                                                 \n",
      " max_pooling2d (MaxPooling2D  (None, 14, 14, 32)       0         \n",
      " )                                                               \n",
      "                                                                 \n",
      " dropout_2 (Dropout)         (None, 14, 14, 32)        0         \n",
      "                                                                 \n",
      " conv2d_1 (Conv2D)           (None, 14, 14, 64)        18496     \n",
      "                                                                 \n",
      " batch_normalization_3 (Batc  (None, 14, 14, 64)       256       \n",
      " hNormalization)                                                 \n",
      "                                                                 \n",
      " max_pooling2d_1 (MaxPooling  (None, 7, 7, 64)         0         \n",
      " 2D)                                                             \n",
      "                                                                 \n",
      " dropout_3 (Dropout)         (None, 7, 7, 64)          0         \n",
      "                                                                 \n",
      " conv2d_2 (Conv2D)           (None, 7, 7, 128)         73856     \n",
      "                                                                 \n",
      " batch_normalization_4 (Batc  (None, 7, 7, 128)        512       \n",
      " hNormalization)                                                 \n",
      "                                                                 \n",
      " max_pooling2d_2 (MaxPooling  (None, 3, 3, 128)        0         \n",
      " 2D)                                                             \n",
      "                                                                 \n",
      " dropout_4 (Dropout)         (None, 3, 3, 128)         0         \n",
      "                                                                 \n",
      " flatten_1 (Flatten)         (None, 1152)              0         \n",
      "                                                                 \n",
      " dense_3 (Dense)             (None, 100)               115300    \n",
      "                                                                 \n",
      " dropout_5 (Dropout)         (None, 100)               0         \n",
      "                                                                 \n",
      " batch_normalization_5 (Batc  (None, 100)              400       \n",
      " hNormalization)                                                 \n",
      "                                                                 \n",
      " dense_4 (Dense)             (None, 10)                1010      \n",
      "                                                                 \n",
      "=================================================================\n",
      "Total params: 210,854\n",
      "Trainable params: 210,206\n",
      "Non-trainable params: 648\n",
      "_________________________________________________________________\n"
     ]
    }
   ],
   "source": [
    "model = tf.keras.Sequential()\n",
    "model.add(tf.keras.layers.Conv2D(32, (3, 3), activation='relu', padding='same',input_shape=(28, 28,3),kernel_regularizer=L2(0.01)))\n",
    "model.add(BatchNormalization())\n",
    "model.add(tf.keras.layers.MaxPooling2D((2, 2)))\n",
    "model.add(Dropout(0.25))\n",
    "model.add(tf.keras.layers.Conv2D(64, (3, 3), activation='relu',padding='same'))\n",
    "model.add(BatchNormalization())\n",
    "model.add(tf.keras.layers.MaxPooling2D((2, 2)))\n",
    "model.add(Dropout(0.25))\n",
    "model.add(tf.keras.layers.Conv2D(128, (3, 3), activation='relu',padding='same'))\n",
    "model.add(BatchNormalization())\n",
    "model.add(tf.keras.layers.MaxPooling2D(pool_size=(2, 2)))\n",
    "model.add(Dropout(0.25))\n",
    "model.add(Flatten())\n",
    "model.add(tf.keras.layers.Dense(100, activation='relu'))\n",
    "model.add(Dropout(0.25))\n",
    "model.add(BatchNormalization())\n",
    "\n",
    "model.add(tf.keras.layers.Dense(10, activation='softmax'))\n",
    "\n",
    "model.summary()"
   ],
   "metadata": {
    "collapsed": false
   }
  },
  {
   "cell_type": "code",
   "execution_count": 34,
   "outputs": [
    {
     "name": "stdout",
     "output_type": "stream",
     "text": [
      "Model: \"sequential_1\"\n",
      "_________________________________________________________________\n",
      " Layer (type)                Output Shape              Param #   \n",
      "=================================================================\n",
      " conv2d (Conv2D)             (None, 28, 28, 32)        896       \n",
      "                                                                 \n",
      " batch_normalization_2 (Batc  (None, 28, 28, 32)       128       \n",
      " hNormalization)                                                 \n",
      "                                                                 \n",
      " max_pooling2d (MaxPooling2D  (None, 14, 14, 32)       0         \n",
      " )                                                               \n",
      "                                                                 \n",
      " dropout_2 (Dropout)         (None, 14, 14, 32)        0         \n",
      "                                                                 \n",
      " conv2d_1 (Conv2D)           (None, 14, 14, 64)        18496     \n",
      "                                                                 \n",
      " batch_normalization_3 (Batc  (None, 14, 14, 64)       256       \n",
      " hNormalization)                                                 \n",
      "                                                                 \n",
      " max_pooling2d_1 (MaxPooling  (None, 7, 7, 64)         0         \n",
      " 2D)                                                             \n",
      "                                                                 \n",
      " dropout_3 (Dropout)         (None, 7, 7, 64)          0         \n",
      "                                                                 \n",
      " conv2d_2 (Conv2D)           (None, 7, 7, 128)         73856     \n",
      "                                                                 \n",
      " batch_normalization_4 (Batc  (None, 7, 7, 128)        512       \n",
      " hNormalization)                                                 \n",
      "                                                                 \n",
      " max_pooling2d_2 (MaxPooling  (None, 3, 3, 128)        0         \n",
      " 2D)                                                             \n",
      "                                                                 \n",
      " dropout_4 (Dropout)         (None, 3, 3, 128)         0         \n",
      "                                                                 \n",
      " flatten_1 (Flatten)         (None, 1152)              0         \n",
      "                                                                 \n",
      " dense_3 (Dense)             (None, 100)               115300    \n",
      "                                                                 \n",
      " dropout_5 (Dropout)         (None, 100)               0         \n",
      "                                                                 \n",
      " batch_normalization_5 (Batc  (None, 100)              400       \n",
      " hNormalization)                                                 \n",
      "                                                                 \n",
      " dense_4 (Dense)             (None, 10)                1010      \n",
      "                                                                 \n",
      "=================================================================\n",
      "Total params: 210,854\n",
      "Trainable params: 210,206\n",
      "Non-trainable params: 648\n",
      "_________________________________________________________________\n",
      "Epoch 1/30\n",
      "538/538 [==============================] - 16s 26ms/step - loss: 2.1318 - accuracy: 0.2816 - val_loss: 2.1509 - val_accuracy: 0.2667\n",
      "Epoch 2/30\n",
      "538/538 [==============================] - 15s 28ms/step - loss: 1.7190 - accuracy: 0.4120 - val_loss: 1.8133 - val_accuracy: 0.3900\n",
      "Epoch 3/30\n",
      "538/538 [==============================] - 14s 27ms/step - loss: 1.5450 - accuracy: 0.4698 - val_loss: 1.7821 - val_accuracy: 0.4100\n",
      "Epoch 4/30\n",
      "538/538 [==============================] - 17s 31ms/step - loss: 1.4355 - accuracy: 0.5109 - val_loss: 1.9191 - val_accuracy: 0.3900\n",
      "Epoch 5/30\n",
      "538/538 [==============================] - 15s 27ms/step - loss: 1.3285 - accuracy: 0.5513 - val_loss: 1.9460 - val_accuracy: 0.3900\n",
      "Epoch 6/30\n",
      "538/538 [==============================] - 15s 27ms/step - loss: 1.2290 - accuracy: 0.5835 - val_loss: 1.8825 - val_accuracy: 0.4500\n",
      "Epoch 7/30\n",
      "538/538 [==============================] - 15s 28ms/step - loss: 1.1674 - accuracy: 0.6035 - val_loss: 1.7017 - val_accuracy: 0.4700\n",
      "Epoch 8/30\n",
      "538/538 [==============================] - 15s 28ms/step - loss: 1.0798 - accuracy: 0.6364 - val_loss: 1.6567 - val_accuracy: 0.4533\n",
      "Epoch 9/30\n",
      "538/538 [==============================] - 15s 27ms/step - loss: 1.0330 - accuracy: 0.6524 - val_loss: 1.9687 - val_accuracy: 0.4433\n",
      "Epoch 10/30\n",
      "538/538 [==============================] - 15s 28ms/step - loss: 0.9731 - accuracy: 0.6748 - val_loss: 1.7690 - val_accuracy: 0.4367\n",
      "Epoch 11/30\n",
      "538/538 [==============================] - 15s 28ms/step - loss: 0.9279 - accuracy: 0.6863 - val_loss: 1.7201 - val_accuracy: 0.5067\n",
      "Epoch 12/30\n",
      "538/538 [==============================] - 15s 28ms/step - loss: 0.8775 - accuracy: 0.7034 - val_loss: 1.6748 - val_accuracy: 0.5067\n",
      "Epoch 13/30\n",
      "538/538 [==============================] - 15s 27ms/step - loss: 0.8561 - accuracy: 0.7157 - val_loss: 2.0682 - val_accuracy: 0.4767\n",
      "Epoch 14/30\n",
      "538/538 [==============================] - 15s 28ms/step - loss: 0.8281 - accuracy: 0.7272 - val_loss: 1.9148 - val_accuracy: 0.4667\n",
      "Epoch 15/30\n",
      "538/538 [==============================] - 15s 27ms/step - loss: 0.7835 - accuracy: 0.7391 - val_loss: 1.9157 - val_accuracy: 0.4833\n",
      "Epoch 16/30\n",
      "538/538 [==============================] - 14s 26ms/step - loss: 0.7549 - accuracy: 0.7516 - val_loss: 2.2589 - val_accuracy: 0.4233\n",
      "Epoch 17/30\n",
      "538/538 [==============================] - 15s 27ms/step - loss: 0.7511 - accuracy: 0.7491 - val_loss: 1.7920 - val_accuracy: 0.5333\n",
      "Epoch 18/30\n",
      "538/538 [==============================] - 14s 27ms/step - loss: 0.7071 - accuracy: 0.7657 - val_loss: 1.9468 - val_accuracy: 0.5100\n",
      "Epoch 19/30\n",
      "538/538 [==============================] - 15s 27ms/step - loss: 0.6868 - accuracy: 0.7755 - val_loss: 1.8156 - val_accuracy: 0.4967\n",
      "Epoch 20/30\n",
      "538/538 [==============================] - 15s 27ms/step - loss: 0.6756 - accuracy: 0.7803 - val_loss: 2.2538 - val_accuracy: 0.4533\n",
      "Epoch 21/30\n",
      "538/538 [==============================] - 14s 27ms/step - loss: 0.6640 - accuracy: 0.7830 - val_loss: 1.9350 - val_accuracy: 0.4767\n",
      "Epoch 22/30\n",
      "538/538 [==============================] - 19s 36ms/step - loss: 0.6480 - accuracy: 0.7910 - val_loss: 2.1287 - val_accuracy: 0.4767\n",
      "Epoch 23/30\n",
      "538/538 [==============================] - 20s 38ms/step - loss: 0.6376 - accuracy: 0.7933 - val_loss: 2.1139 - val_accuracy: 0.4900\n",
      "Epoch 24/30\n",
      "538/538 [==============================] - 21s 39ms/step - loss: 0.6063 - accuracy: 0.8053 - val_loss: 2.0620 - val_accuracy: 0.4533\n",
      "Epoch 25/30\n",
      "538/538 [==============================] - 21s 39ms/step - loss: 0.6072 - accuracy: 0.8056 - val_loss: 2.1179 - val_accuracy: 0.4800\n",
      "Epoch 26/30\n",
      "538/538 [==============================] - 21s 40ms/step - loss: 0.5935 - accuracy: 0.8056 - val_loss: 1.9529 - val_accuracy: 0.5267\n",
      "Epoch 27/30\n",
      "538/538 [==============================] - 22s 40ms/step - loss: 0.5673 - accuracy: 0.8152 - val_loss: 2.0143 - val_accuracy: 0.5400\n",
      "Epoch 28/30\n",
      "538/538 [==============================] - 22s 41ms/step - loss: 0.5881 - accuracy: 0.8125 - val_loss: 2.4257 - val_accuracy: 0.4733\n",
      "Epoch 29/30\n",
      "538/538 [==============================] - 20s 38ms/step - loss: 0.5632 - accuracy: 0.8214 - val_loss: 1.9055 - val_accuracy: 0.5433\n",
      "Epoch 30/30\n",
      "538/538 [==============================] - 21s 38ms/step - loss: 0.5593 - accuracy: 0.8253 - val_loss: 1.9981 - val_accuracy: 0.5267\n"
     ]
    }
   ],
   "source": [
    "model.compile(optimizer='Adam',\n",
    "              loss=tf.keras.losses.SparseCategoricalCrossentropy(from_logits=True),\n",
    "              metrics=['accuracy'])\n",
    "\n",
    "model.summary()\n",
    "history = model.fit(train_data, train_label, epochs=30,\n",
    "                    validation_data=(val_data, val_label))"
   ],
   "metadata": {
    "collapsed": false
   }
  },
  {
   "cell_type": "code",
   "execution_count": 35,
   "outputs": [
    {
     "name": "stdout",
     "output_type": "stream",
     "text": [
      "8/8 [==============================] - 0s 10ms/step - loss: 1.8037 - accuracy: 0.5280\n"
     ]
    },
    {
     "data": {
      "text/plain": "[1.803717851638794, 0.527999997138977]"
     },
     "execution_count": 35,
     "metadata": {},
     "output_type": "execute_result"
    }
   ],
   "source": [
    "model.evaluate(test_data, test_label)"
   ],
   "metadata": {
    "collapsed": false
   }
  },
  {
   "cell_type": "code",
   "execution_count": 35,
   "outputs": [],
   "source": [],
   "metadata": {
    "collapsed": false
   }
  },
  {
   "cell_type": "code",
   "execution_count": 35,
   "outputs": [],
   "source": [],
   "metadata": {
    "collapsed": false
   }
  },
  {
   "cell_type": "code",
   "execution_count": 35,
   "outputs": [],
   "source": [],
   "metadata": {
    "collapsed": false
   }
  },
  {
   "cell_type": "code",
   "execution_count": 35,
   "outputs": [],
   "source": [],
   "metadata": {
    "collapsed": false
   }
  },
  {
   "cell_type": "code",
   "execution_count": 35,
   "outputs": [],
   "source": [],
   "metadata": {
    "collapsed": false
   }
  },
  {
   "cell_type": "code",
   "execution_count": 36,
   "outputs": [],
   "source": [
    "predictions = model.predict_generator(test_data,steps=1,verbose=0)\n",
    "rounded_prediction = np.argmax(predictions, axis=-1)\n"
   ],
   "metadata": {
    "collapsed": false
   }
  },
  {
   "cell_type": "code",
   "execution_count": 36,
   "outputs": [],
   "source": [],
   "metadata": {
    "collapsed": false
   }
  },
  {
   "cell_type": "code",
   "execution_count": 37,
   "outputs": [],
   "source": [
    "cm = confusion_matrix(y_true=test_label, y_pred=rounded_prediction)"
   ],
   "metadata": {
    "collapsed": false
   }
  },
  {
   "cell_type": "code",
   "execution_count": 38,
   "outputs": [],
   "source": [
    "def plot_confusion_matrix(cm, classes,\n",
    "                          normalize=False,\n",
    "                          title='Confusion matrix',\n",
    "                          cmap=plt.cm.Blues):\n",
    "    \"\"\"\n",
    "    This function prints and plots the confusion matrix.\n",
    "    Normalization can be applied by setting `normalize=True`.\n",
    "    \"\"\"\n",
    "    plt.imshow(cm, interpolation='nearest', cmap=cmap)\n",
    "    plt.title(title)\n",
    "    plt.colorbar()\n",
    "    tick_marks = np.arange(len(classes))\n",
    "    plt.xticks(tick_marks, classes, rotation=45)\n",
    "    plt.yticks(tick_marks, classes)\n",
    "\n",
    "    if normalize:\n",
    "        cm = cm.astype('float') / cm.sum(axis=1)[:, np.newaxis]\n",
    "        print(\"Normalized confusion matrix\")\n",
    "    else:\n",
    "        print('Confusion matrix, without normalization')\n",
    "\n",
    "    print(cm)\n",
    "\n",
    "    thresh = cm.max() / 2.\n",
    "    for i, j in itertools.product(range(cm.shape[0]), range(cm.shape[1])):\n",
    "        plt.text(j, i, cm[i, j],\n",
    "                 horizontalalignment=\"center\",\n",
    "                 color=\"black\" if cm[i, j] > thresh else \"black\")\n",
    "\n",
    "    plt.tight_layout()\n",
    "    plt.ylabel('True label')\n",
    "    plt.xlabel('Predicted label')"
   ],
   "metadata": {
    "collapsed": false
   }
  },
  {
   "cell_type": "code",
   "execution_count": 39,
   "outputs": [
    {
     "name": "stdout",
     "output_type": "stream",
     "text": [
      "Confusion matrix, without normalization\n",
      "[[11  0  2  3  2  3  3  0  1  0]\n",
      " [ 1 14  0  1  0  0  9  0  0  0]\n",
      " [ 2  0 15  3  4  1  0  0  0  0]\n",
      " [ 3  2  2 11  3  0  0  1  2  1]\n",
      " [ 4  2  1  3  9  1  1  2  0  2]\n",
      " [ 1  2  1  0  0 19  2  0  0  0]\n",
      " [ 2  7  0  0  1  3 11  1  0  0]\n",
      " [ 4  2  1  0  0  0  6  8  2  2]\n",
      " [ 3  0  0  0  0  0  0  0 19  3]\n",
      " [ 1  0  2  2  1  0  1  2  1 15]]\n"
     ]
    },
    {
     "data": {
      "text/plain": "<Figure size 432x288 with 2 Axes>",
      "image/png": "[encoded data removed]"
     },
     "metadata": {},
     "output_type": "display_data"
    }
   ],
   "source": [
    "cm_plot_labels = [\"Chihuahua\", 'Japanese_spaniel', 'Maltese_dog', 'Pekinese','Shih_Tzu','Blenheim_spaniel','papillon','toy_terrier','Rhodesian_ridgeback','Afghan_hound']\n",
    "plot_confusion_matrix(cm=cm, classes=cm_plot_labels, title='confusion_matrix')"
   ],
   "metadata": {
    "collapsed": false
   }
  },
  {
   "cell_type": "code",
   "execution_count": 39,
   "outputs": [],
   "source": [],
   "metadata": {
    "collapsed": false
   }
  },
  {
   "cell_type": "code",
   "execution_count": 39,
   "outputs": [],
   "source": [],
   "metadata": {
    "collapsed": false
   }
  },
  {
   "cell_type": "code",
   "execution_count": 39,
   "outputs": [],
   "source": [],
   "metadata": {
    "collapsed": false
   }
  },
  {
   "cell_type": "code",
   "execution_count": 40,
   "outputs": [
    {
     "data": {
      "text/plain": "<Figure size 432x288 with 1 Axes>",
      "image/png": "[encoded data removed]"
     },
     "metadata": {},
     "output_type": "display_data"
    }
   ],
   "source": [
    "accs = history.history['accuracy']\n",
    "val_accs = history.history['val_accuracy']\n",
    "\n",
    "plt.plot(range(len(accs)),accs, label = 'Training_accuracy')\n",
    "plt.plot(range(len(accs)),val_accs, label = 'Validation_accuracy')\n",
    "plt.legend()\n",
    "plt.show()"
   ],
   "metadata": {
    "collapsed": false
   }
  },
  {
   "cell_type": "code",
   "execution_count": 41,
   "outputs": [
    {
     "data": {
      "text/plain": "<Figure size 432x288 with 1 Axes>",
      "image/png": "[encoded data removed]"
     },
     "metadata": {},
     "output_type": "display_data"
    }
   ],
   "source": [
    "accs = history.history['loss']\n",
    "val_accs = history.history['val_loss']\n",
    "\n",
    "plt.plot(range(len(accs)),accs, label = 'Training_loss')\n",
    "plt.plot(range(len(accs)),val_accs, label = 'Validation_loss')\n",
    "plt.legend()\n",
    "plt.show()"
   ],
   "metadata": {
    "collapsed": false
   }
  },
  {
   "cell_type": "code",
   "execution_count": 42,
   "outputs": [
    {
     "name": "stdout",
     "output_type": "stream",
     "text": [
      "                     precision    recall  f1-score   support\n",
      "\n",
      "          Chihuahua       0.34      0.44      0.39        25\n",
      "   Japanese_spaniel       0.48      0.56      0.52        25\n",
      "        Maltese_dog       0.62      0.60      0.61        25\n",
      "           Pekinese       0.48      0.44      0.46        25\n",
      "           Shih_Tzu       0.45      0.36      0.40        25\n",
      "   Blenheim_spaniel       0.70      0.76      0.73        25\n",
      "           papillon       0.33      0.44      0.38        25\n",
      "        toy_terrier       0.57      0.32      0.41        25\n",
      "Rhodesian_ridgeback       0.76      0.76      0.76        25\n",
      "       Afghan_hound       0.65      0.60      0.63        25\n",
      "\n",
      "           accuracy                           0.53       250\n",
      "          macro avg       0.54      0.53      0.53       250\n",
      "       weighted avg       0.54      0.53      0.53       250\n",
      "\n"
     ]
    }
   ],
   "source": [
    "print(classification_report(test_label,rounded_prediction, target_names=cm_plot_labels))"
   ],
   "metadata": {
    "collapsed": false
   }
  },
  {
   "cell_type": "code",
   "execution_count": 43,
   "outputs": [
    {
     "data": {
      "text/plain": "(250,)"
     },
     "execution_count": 43,
     "metadata": {},
     "output_type": "execute_result"
    }
   ],
   "source": [
    "rounded_prediction.shape"
   ],
   "metadata": {
    "collapsed": false
   }
  },
  {
   "cell_type": "markdown",
   "source": [
    "### Supported vector classsifier"
   ],
   "metadata": {
    "collapsed": false
   }
  },
  {
   "cell_type": "code",
   "execution_count": 44,
   "outputs": [
    {
     "data": {
      "text/plain": "(250, 28, 28, 3)"
     },
     "execution_count": 44,
     "metadata": {},
     "output_type": "execute_result"
    }
   ],
   "source": [
    "test_data.shape"
   ],
   "metadata": {
    "collapsed": false
   }
  },
  {
   "cell_type": "code",
   "execution_count": 45,
   "outputs": [
    {
     "data": {
      "text/plain": "(17209, 28, 28, 3)"
     },
     "execution_count": 45,
     "metadata": {},
     "output_type": "execute_result"
    }
   ],
   "source": [
    "train_data.shape"
   ],
   "metadata": {
    "collapsed": false
   }
  },
  {
   "cell_type": "code",
   "execution_count": 46,
   "outputs": [
    {
     "ename": "ValueError",
     "evalue": "cannot reshape array of size 40475568 into shape (22478,2352)",
     "output_type": "error",
     "traceback": [
      "\u001B[1;31m---------------------------------------------------------------------------\u001B[0m",
      "\u001B[1;31mValueError\u001B[0m                                Traceback (most recent call last)",
      "\u001B[1;32m<ipython-input-46-06b5bdd053aa>\u001B[0m in \u001B[0;36m<module>\u001B[1;34m\u001B[0m\n\u001B[1;32m----> 1\u001B[1;33m \u001B[0mtrain\u001B[0m \u001B[1;33m=\u001B[0m \u001B[0mtrain_data\u001B[0m\u001B[1;33m.\u001B[0m\u001B[0mreshape\u001B[0m\u001B[1;33m(\u001B[0m\u001B[1;36m22478\u001B[0m\u001B[1;33m,\u001B[0m\u001B[1;36m2352\u001B[0m\u001B[1;33m)\u001B[0m\u001B[1;33m\u001B[0m\u001B[1;33m\u001B[0m\u001B[0m\n\u001B[0m",
      "\u001B[1;31mValueError\u001B[0m: cannot reshape array of size 40475568 into shape (22478,2352)"
     ]
    }
   ],
   "source": [
    "train = train_data.reshape(22478,2352)"
   ],
   "metadata": {
    "collapsed": false
   }
  },
  {
   "cell_type": "code",
   "execution_count": null,
   "outputs": [],
   "source": [
    "test = test_data.reshape(250,2352)"
   ],
   "metadata": {
    "collapsed": false
   }
  },
  {
   "cell_type": "code",
   "execution_count": null,
   "outputs": [],
   "source": [
    "clf = svm.SVC()\n",
    "clf.fit(train,train_label)"
   ],
   "metadata": {
    "collapsed": false
   }
  },
  {
   "cell_type": "code",
   "execution_count": null,
   "outputs": [],
   "source": [
    "pred  = clf.predict(test)\n",
    "acc = accuracy_score(y_pred=pred,y_true=test_label)\n",
    "acc"
   ],
   "metadata": {
    "collapsed": false
   }
  },
  {
   "cell_type": "code",
   "execution_count": null,
   "outputs": [],
   "source": [
    "cm = confusion_matrix(y_true=test_label, y_pred=pred)"
   ],
   "metadata": {
    "collapsed": false
   }
  },
  {
   "cell_type": "code",
   "execution_count": null,
   "outputs": [],
   "source": [],
   "metadata": {
    "collapsed": false
   }
  },
  {
   "cell_type": "code",
   "execution_count": null,
   "outputs": [],
   "source": [
    "cm_plot_labels = [\"Chihuahua\", 'Japanese_spaniel', 'Maltese_dog', 'Pekinese','Shih_Tzu','Blenheim_spaniel','papillon','toy_terrier','Rhodesian_ridgeback','Afghan_hound']\n",
    "plot_confusion_matrix(cm=cm, classes=cm_plot_labels, title='confusion_matrix')"
   ],
   "metadata": {
    "collapsed": false
   }
  },
  {
   "cell_type": "markdown",
   "source": [],
   "metadata": {
    "collapsed": false
   }
  },
  {
   "cell_type": "markdown",
   "source": [],
   "metadata": {
    "collapsed": false
   }
  },
  {
   "cell_type": "code",
   "execution_count": null,
   "outputs": [],
   "source": [],
   "metadata": {
    "collapsed": false
   }
  },
  {
   "cell_type": "code",
   "execution_count": null,
   "outputs": [],
   "source": [],
   "metadata": {
    "collapsed": false
   }
  },
  {
   "cell_type": "code",
   "execution_count": null,
   "outputs": [],
   "source": [],
   "metadata": {
    "collapsed": false
   }
  },
  {
   "cell_type": "code",
   "execution_count": null,
   "outputs": [],
   "source": [
    "def multiclass_roc_auc_score(y_test, y_pred, average=\"macro\"):\n",
    "    lb = LabelBinarizer()\n",
    "    lb.fit(y_test)\n",
    "    y_test = lb.transform(y_test)\n",
    "    y_pred = lb.transform(y_pred)\n",
    "    return roc_auc_score(y_test, y_pred, average=average)\n"
   ],
   "metadata": {
    "collapsed": false
   }
  },
  {
   "cell_type": "code",
   "execution_count": null,
   "outputs": [],
   "source": [
    "multiclass_roc_auc_score(y_pred=pred,y_test=test_label)"
   ],
   "metadata": {
    "collapsed": false
   }
  },
  {
   "cell_type": "code",
   "execution_count": null,
   "outputs": [],
   "source": [
    "print(classification_report(test_label,pred, target_names=cm_plot_labels))"
   ],
   "metadata": {
    "collapsed": false
   }
  },
  {
   "cell_type": "code",
   "execution_count": null,
   "outputs": [],
   "source": [],
   "metadata": {
    "collapsed": false
   }
  },
  {
   "cell_type": "code",
   "execution_count": 75,
   "outputs": [],
   "source": [],
   "metadata": {
    "collapsed": false
   }
  },
  {
   "cell_type": "code",
   "execution_count": null,
   "outputs": [],
   "source": [],
   "metadata": {
    "collapsed": false
   }
  }
 ],
 "metadata": {
  "kernelspec": {
   "display_name": "Python 3",
   "language": "python",
   "name": "python3"
  },
  "language_info": {
   "codemirror_mode": {
    "name": "ipython",
    "version": 2
   },
   "file_extension": ".py",
   "mimetype": "text/x-python",
   "name": "python",
   "nbconvert_exporter": "python",
   "pygments_lexer": "ipython2",
   "version": "2.7.6"
  }
 },
 "nbformat": 4,
 "nbformat_minor": 0
}
